{
 "cells": [
  {
   "attachments": {},
   "cell_type": "markdown",
   "metadata": {},
   "source": [
    "<h1>Importing Libraries</h1>\n",
    "\n"
   ]
  },
  {
   "cell_type": "code",
   "execution_count": 41,
   "metadata": {},
   "outputs": [],
   "source": [
    "import cv2\n",
    "import numpy as np\n",
    "import os\n",
    "from matplotlib import pyplot as plt\n",
    "import time\n",
    "import mediapipe as mp"
   ]
  },
  {
   "attachments": {},
   "cell_type": "markdown",
   "metadata": {},
   "source": [
    "<h1>Constants Needed</h1>\n",
    "<h2> Frame Manipulation </h2>"
   ]
  },
  {
   "cell_type": "code",
   "execution_count": 42,
   "metadata": {},
   "outputs": [],
   "source": [
    "# Actions that we try to detect\n",
    "ACTIONS = {\n",
    "            'Alphabets' : ['A', 'B', 'C', 'D', 'E', 'F', 'G', 'H', 'I', 'J', 'K', 'L', 'M', 'N', 'Ñ', 'NG', 'O', 'P', 'Q', 'R', 'S', 'T', 'U', 'V', 'W', 'X', 'Y', 'Z'],\n",
    "            'Numbers' : ['0', '1', '2', '3', '4', '5', '6', '7', '8', '9'],\n",
    "            'Family Words': ['Kuya', 'Ate', 'Nanay', 'Tatay', 'Kapatid', 'Anak', 'Tiya', 'Tiyo', 'Lolo', 'Lola']\n",
    "}\n",
    "        \n",
    "CATEGORIES = ['Alphabets', 'Numbers', 'Family Words']\n",
    "\n",
    "\n",
    "# Thirty videos worth of data\n",
    "NO_SEQUENCES = 30\n",
    "\n",
    "# Videos are going to be 30 frames in length\n",
    "SEQUENCE_LENGTH = 30\n",
    "\n",
    "# Folder start\n",
    "START_FOLDER = 30\n"
   ]
  },
  {
   "cell_type": "markdown",
   "metadata": {},
   "source": [
    "<h2> Folder Paths </h2>"
   ]
  },
  {
   "cell_type": "code",
   "execution_count": 43,
   "metadata": {},
   "outputs": [],
   "source": [
    "# Path for exported data, numpy arrays\n",
    "NP_DATA_PATH = os.path.join('NP_DATA')\n",
    "\n",
    "#Path for exported data, mp4 format\n",
    "VID_CLEAR_DATA_PATH = os.path.join('VID_CLEAR_DATA')\n",
    "\n",
    "#Path for exported data, mp4 format w/ landmarks\n",
    "VID_MP_DATA_PATH = os.path.join('VID_MP_DATA')\n",
    "\n",
    "#Path for exported data, png format\n",
    "IMG_CLEAR_DATA_PATH = os.path.join('IMG_CLEAR_DATA')\n",
    "\n",
    "#Path for exported data, png format w/ landmarks\n",
    "IMG_MP_DATA_PATH = os.path.join('IMG_MP_DATA')\n"
   ]
  },
  {
   "attachments": {},
   "cell_type": "markdown",
   "metadata": {},
   "source": [
    "<h1> Folder Creation </h1>\n"
   ]
  },
  {
   "cell_type": "code",
   "execution_count": 44,
   "metadata": {},
   "outputs": [],
   "source": [
    "def setupFolders(no_sequences, actions, categories, data_path):\n",
    "    \n",
    "    for category in categories:\n",
    "        for action in actions[category]: \n",
    "            for sequence in range(1,no_sequences+1):\n",
    "                try: \n",
    "                    os.makedirs(os.path.join(data_path, categories, action, str(sequence)))\n",
    "                except:\n",
    "                    pass"
   ]
  },
  {
   "attachments": {},
   "cell_type": "markdown",
   "metadata": {},
   "source": [
    "<text>Run this cell to create the folders, if the folders are already created it will pass</text>"
   ]
  },
  {
   "cell_type": "code",
   "execution_count": 45,
   "metadata": {},
   "outputs": [],
   "source": [
    "# Path Storage for numpy landmarks, images, videos\n",
    "setupFolders(NO_SEQUENCES, ACTIONS, CATEGORIES, NP_DATA_PATH)\n",
    "setupFolders(NO_SEQUENCES, ACTIONS, CATEGORIES, VID_CLEAR_DATA_PATH)\n",
    "setupFolders(NO_SEQUENCES, ACTIONS, CATEGORIES, IMG_CLEAR_DATA_PATH)\n",
    "setupFolders(NO_SEQUENCES, ACTIONS, CATEGORIES, VID_MP_DATA_PATH)\n",
    "setupFolders(NO_SEQUENCES, ACTIONS, CATEGORIES, IMG_MP_DATA_PATH)"
   ]
  },
  {
   "attachments": {},
   "cell_type": "markdown",
   "metadata": {},
   "source": [
    "<h1>Initializing MP Model</h1>"
   ]
  },
  {
   "cell_type": "code",
   "execution_count": 46,
   "metadata": {},
   "outputs": [],
   "source": [
    "mp_holistic = mp.solutions.holistic # Holistic model\n",
    "mp_drawing = mp.solutions.drawing_utils # Drawing utilities"
   ]
  },
  {
   "attachments": {},
   "cell_type": "markdown",
   "metadata": {},
   "source": [
    "<h1>Detecting Holistic Parts</h1>\n",
    "<text>This block of code detects the part of the body that is within the scope of the mediapipe model.</text>\n"
   ]
  },
  {
   "cell_type": "code",
   "execution_count": 47,
   "metadata": {},
   "outputs": [],
   "source": [
    "def mediapipe_detection(image, model):\n",
    "    image = cv2.cvtColor(image, cv2.COLOR_BGR2RGB) # COLOR CONVERSION BGR 2 RGB\n",
    "    image.flags.writeable = False                  # Image is no longer writeable\n",
    "    results = model.process(image)                 # Make prediction\n",
    "    image.flags.writeable = True                   # Image is now writeable \n",
    "    image = cv2.cvtColor(image, cv2.COLOR_RGB2BGR) # COLOR COVERSION RGB 2 BGR\n",
    "    return image, results"
   ]
  },
  {
   "attachments": {},
   "cell_type": "markdown",
   "metadata": {},
   "source": [
    "<h1>Drawing Landmarks</h1>\n",
    "<text>This block of code puts the landmarks inputted by the media pipe model.</text>\n"
   ]
  },
  {
   "cell_type": "code",
   "execution_count": 48,
   "metadata": {},
   "outputs": [],
   "source": [
    "def draw_landmarks(image, results):\n",
    "    mp_drawing.draw_landmarks(image, results.face_landmarks, mp_holistic.FACE_CONNECTIONS) # Draw face connections\n",
    "    mp_drawing.draw_landmarks(image, results.pose_landmarks, mp_holistic.POSE_CONNECTIONS) # Draw pose connections\n",
    "    mp_drawing.draw_landmarks(image, results.left_hand_landmarks, mp_holistic.HAND_CONNECTIONS) # Draw left hand connections\n",
    "    mp_drawing.draw_landmarks(image, results.right_hand_landmarks, mp_holistic.HAND_CONNECTIONS) # Draw right hand connections"
   ]
  },
  {
   "attachments": {},
   "cell_type": "markdown",
   "metadata": {},
   "source": [
    "<h1>Styling Landmarks</h1>\n",
    "<text>This block of code styles the landmarks inputted by the media pipe model.</text>\n"
   ]
  },
  {
   "cell_type": "code",
   "execution_count": 49,
   "metadata": {},
   "outputs": [],
   "source": [
    "def draw_styled_landmarks(image, results):\n",
    "    # Draw face connections\n",
    "    mp_drawing.draw_landmarks(image, results.face_landmarks, mp_holistic.FACEMESH_CONTOURS, \n",
    "                             mp_drawing.DrawingSpec(color=(80,110,10), thickness=1, circle_radius=1), \n",
    "                             mp_drawing.DrawingSpec(color=(80,256,121), thickness=1, circle_radius=1)\n",
    "                             ) \n",
    "    # Draw pose connections\n",
    "    mp_drawing.draw_landmarks(image, results.pose_landmarks, mp_holistic.POSE_CONNECTIONS,\n",
    "                             mp_drawing.DrawingSpec(color=(80,22,10), thickness=2, circle_radius=4), \n",
    "                             mp_drawing.DrawingSpec(color=(80,44,121), thickness=2, circle_radius=2)\n",
    "                             ) \n",
    "    # Draw left hand connections\n",
    "    mp_drawing.draw_landmarks(image, results.left_hand_landmarks, mp_holistic.HAND_CONNECTIONS, \n",
    "                             mp_drawing.DrawingSpec(color=(121,22,76), thickness=2, circle_radius=4), \n",
    "                             mp_drawing.DrawingSpec(color=(121,44,250), thickness=2, circle_radius=2)\n",
    "                             ) \n",
    "    # Draw right hand connections  \n",
    "    mp_drawing.draw_landmarks(image, results.right_hand_landmarks, mp_holistic.HAND_CONNECTIONS, \n",
    "                             mp_drawing.DrawingSpec(color=(245,117,66), thickness=2, circle_radius=4), \n",
    "                             mp_drawing.DrawingSpec(color=(245,66,230), thickness=2, circle_radius=2)\n",
    "                             ) "
   ]
  },
  {
   "attachments": {},
   "cell_type": "markdown",
   "metadata": {},
   "source": [
    "<h1>Saving Frames</h1>\n"
   ]
  },
  {
   "cell_type": "code",
   "execution_count": 50,
   "metadata": {},
   "outputs": [],
   "source": [
    "def saveImage(path, image, action, sequence,frame_num):\n",
    "    try:\n",
    "        cv2.imwrite(os.path.join(path, f'{action}{sequence}-{frame_num}.png'), image)\n",
    "    except:\n",
    "        print(path)"
   ]
  },
  {
   "attachments": {},
   "cell_type": "markdown",
   "metadata": {},
   "source": [
    "<h1>Saving Video Clips</h1>\n"
   ]
  },
  {
   "cell_type": "code",
   "execution_count": 51,
   "metadata": {},
   "outputs": [],
   "source": [
    "def saveVideo(path, action, sequence, width, height):\n",
    "    size = (width, height)\n",
    "    result = object\n",
    "    try:\n",
    "        result = cv2.VideoWriter(os.path.join(path, f'{action}{sequence}.mp4'), cv2.VideoWriter_fourcc(*'MP4V'), 10, size)\n",
    "    except:\n",
    "        pass\n",
    "    return result"
   ]
  },
  {
   "attachments": {},
   "cell_type": "markdown",
   "metadata": {},
   "source": [
    "<h1>Extract Keypoints</h1>"
   ]
  },
  {
   "cell_type": "code",
   "execution_count": 52,
   "metadata": {},
   "outputs": [],
   "source": [
    "def extract_keypoints(results):\n",
    "    pose = np.array([[res.x, res.y, res.z, res.visibility] for res in results.pose_landmarks.landmark]).flatten() if results.pose_landmarks else np.zeros(33*4)\n",
    "    face = np.array([[res.x, res.y, res.z] for res in results.face_landmarks.landmark]).flatten() if results.face_landmarks else np.zeros(468*3)\n",
    "    lh = np.array([[res.x, res.y, res.z] for res in results.left_hand_landmarks.landmark]).flatten() if results.left_hand_landmarks else np.zeros(21*3)\n",
    "    rh = np.array([[res.x, res.y, res.z] for res in results.right_hand_landmarks.landmark]).flatten() if results.right_hand_landmarks else np.zeros(21*3)\n",
    "    return np.concatenate([pose, face, lh, rh])"
   ]
  },
  {
   "attachments": {},
   "cell_type": "markdown",
   "metadata": {},
   "source": [
    "<h1>Capture Real Time Landmarks</h1>\n",
    "<text>Comment down the save functions to test.</text>\n"
   ]
  },
  {
   "cell_type": "code",
   "execution_count": null,
   "metadata": {},
   "outputs": [],
   "source": [
    "cap = cv2.VideoCapture(0)\n",
    "\n",
    "# Set mediapipe model \n",
    "with mp_holistic.Holistic(min_detection_confidence=0.5, min_tracking_confidence=0.5) as holistic:\n",
    "\n",
    "    # NEW LOOP\n",
    "    # Loop through actions\n",
    "    \n",
    "    try:\n",
    "        for category in CATEGORIES:\n",
    "            for action in ACTIONS[category]:\n",
    "                \n",
    "                # Loop through sequences aka videos\n",
    "                for sequence in range(NO_SEQUENCES):\n",
    "                        \n",
    "                    #Start Record, Comment this if you want test\n",
    "                    # clearVideo = saveVideo(path=os.path.join(VID_CLEAR_DATA_PATH, category, action, str(sequence+1)), action=action, sequence=sequence+1, width=int(cap.get(3)), height=int(cap.get(4)))\n",
    "                    # mpipeVideo = saveVideo(path=os.path.join(VID_MP_DATA_PATH, category, action, str(sequence+1)), action=action, sequence=sequence+1, width=int(cap.get(3)), height=int(cap.get(4)))\n",
    "                    \n",
    "                    # Loop through video length aka sequence length\n",
    "                    for frame_num in range(SEQUENCE_LENGTH):\n",
    "\n",
    "                        # Read feed\n",
    "                        ret, frame = cap.read()\n",
    "\n",
    "                        if not ret:\n",
    "                            raise StopIteration\n",
    "\n",
    "                        # Flipping frame horizontally\n",
    "                        frame = cv2.flip(frame, 1)\n",
    "\n",
    "\n",
    "                        # Make detections\n",
    "                        image, results = mediapipe_detection(frame, holistic)\n",
    "\n",
    "                        # Draw landmarks\n",
    "                        draw_styled_landmarks(image, results)\n",
    "\n",
    "                        #Saved MP Image, Comment this if you want test\n",
    "                        # saveImage(path=os.path.join(IMG_MP_DATA_PATH, category, action, str(sequence+1)), image=image, action=action, sequence=sequence+1, frame_num=frame_num+1)\n",
    "\n",
    "                        #Adding MP Image, Comment this if you want test\n",
    "                        # mpipeVideo.write(image)\n",
    "\n",
    "                        \n",
    "                        # NEW Apply wait logic, Enter to capture every starting frame\n",
    "                        if frame_num == 0: \n",
    "                            cv2.putText(image, 'Press Enter to Start COLLECTION', (80,200), \n",
    "                                    cv2.FONT_HERSHEY_SIMPLEX, 1, (0,255, 0), 4, cv2.LINE_AA)\n",
    "                            cv2.putText(image, f'Collecting frames for {category} : {action} Video Number {sequence + 1}', (15,12), \n",
    "                                    cv2.FONT_HERSHEY_SIMPLEX, 0.5, (0, 0, 255), 1, cv2.LINE_AA)\n",
    "                            # Show to screen\n",
    "                            cv2.imshow('OpenCV Feed', image)\n",
    "                            if cv2.waitKey(0) & 0xFF == 10:\n",
    "\n",
    "                                pass\n",
    "                        else: \n",
    "                            cv2.putText(image, f'Collecting frames for {category} : {action} Video Number {sequence + 1} | Frame Number {frame_num + 1}', (15,12), \n",
    "                                    cv2.FONT_HERSHEY_SIMPLEX, 0.5, (0, 0, 255), 1, cv2.LINE_AA)\n",
    "                            # Show to screen\n",
    "                            cv2.imshow('OpenCV Feed', image)\n",
    "\n",
    "                            \n",
    "                        \n",
    "                        #Export Clear Images, Comment this if you want test\n",
    "                        # saveImage(path=os.path.join(IMG_CLEAR_DATA_PATH, category, action, str(sequence+1)), image=frame, action=action, sequence=sequence+1, frame_num=frame_num+1)\n",
    "                        \n",
    "                        #Adding Clear Frame, Comment this if you want test\n",
    "                        # clearVideo.write(frame)\n",
    "\n",
    "\n",
    "                        #Export keypoints each frame, Comment this if you want test\n",
    "                        # keypoints = extract_keypoints(results)\n",
    "                        # npy_path = os.path.join(NP_DATA_PATH, category, action, str(sequence + 1), str(frame_num + 1))\n",
    "                        # np.save(npy_path, keypoints)\n",
    "\n",
    "\n",
    "                        #Raising an exception to fully break the loop\n",
    "                        if cv2.waitKey(10) & 0xFF == ord('q'):\n",
    "\n",
    "                            raise StopIteration\n",
    "                    \n",
    "\n",
    "                    #Stop the record of videos, Comment this if you want test\n",
    "                    # clearVideo.release()\n",
    "                    # mpipeVideo.release()\n",
    "\n",
    "\n",
    "                    \n",
    "\n",
    "                                      \n",
    "    except StopIteration:\n",
    "        pass\n",
    "\n",
    "#Release all resources, Comment this if you want test\n",
    "# clearVideo.release()\n",
    "# mpipeVideo.release()\n",
    "\n",
    "\n",
    "#Release window\n",
    "cap.release()\n",
    "cv2.destroyAllWindows()                   \n",
    "    "
   ]
  }
 ],
 "metadata": {
  "kernelspec": {
   "display_name": "Python 3",
   "language": "python",
   "name": "python3"
  },
  "language_info": {
   "codemirror_mode": {
    "name": "ipython",
    "version": 3
   },
   "file_extension": ".py",
   "mimetype": "text/x-python",
   "name": "python",
   "nbconvert_exporter": "python",
   "pygments_lexer": "ipython3",
   "version": "3.10.4"
  },
  "orig_nbformat": 4
 },
 "nbformat": 4,
 "nbformat_minor": 2
}
